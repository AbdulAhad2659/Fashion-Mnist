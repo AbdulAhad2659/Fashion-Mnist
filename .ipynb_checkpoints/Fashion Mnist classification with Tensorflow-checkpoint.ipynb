{
 "cells": [
  {
   "cell_type": "code",
   "execution_count": 1,
   "id": "0561d88f",
   "metadata": {},
   "outputs": [],
   "source": [
    "import numpy as np\n",
    "import matplotlib.pyplot as plt\n",
    "import tensorflow as tf\n",
    "from tensorflow import keras\n",
    "from keras import datasets, layers, metrics, models, optimizers, preprocessing, regularizers\n",
    "from sklearn.metrics import classification_report, confusion_matrix"
   ]
  },
  {
   "cell_type": "code",
   "execution_count": 2,
   "id": "19cfa5ff",
   "metadata": {},
   "outputs": [],
   "source": [
    "(train_images, train_labels), (test_images, test_labels) = datasets.fashion_mnist.load_data()"
   ]
  },
  {
   "cell_type": "code",
   "execution_count": 3,
   "id": "ae42878f",
   "metadata": {},
   "outputs": [],
   "source": [
    "train_images = train_images / 255.0\n",
    "test_images = test_images / 255.0"
   ]
  },
  {
   "cell_type": "code",
   "execution_count": 4,
   "id": "08b738e2",
   "metadata": {},
   "outputs": [],
   "source": [
    "classes = ['T-shirt/top', 'Trouser', 'Pullover', 'Dress', 'Coat', 'Sandal', 'Shirt', 'Sneaker', 'Bag', 'Ankle boot']"
   ]
  },
  {
   "cell_type": "code",
   "execution_count": 5,
   "id": "96108b7e",
   "metadata": {},
   "outputs": [],
   "source": [
    "model = models.Sequential()"
   ]
  },
  {
   "cell_type": "code",
   "execution_count": 6,
   "id": "1fe55bac",
   "metadata": {},
   "outputs": [
    {
     "name": "stdout",
     "output_type": "stream",
     "text": [
      "Model: \"sequential\"\n",
      "_________________________________________________________________\n",
      " Layer (type)                Output Shape              Param #   \n",
      "=================================================================\n",
      " conv2d (Conv2D)             (None, 26, 26, 64)        640       \n",
      "                                                                 \n",
      " conv2d_1 (Conv2D)           (None, 24, 24, 128)       73856     \n",
      "                                                                 \n",
      " max_pooling2d (MaxPooling2D  (None, 12, 12, 128)      0         \n",
      " )                                                               \n",
      "                                                                 \n",
      " conv2d_2 (Conv2D)           (None, 10, 10, 256)       295168    \n",
      "                                                                 \n",
      " flatten (Flatten)           (None, 25600)             0         \n",
      "                                                                 \n",
      " dense (Dense)               (None, 64)                1638464   \n",
      "                                                                 \n",
      " dense_1 (Dense)             (None, 10)                650       \n",
      "                                                                 \n",
      "=================================================================\n",
      "Total params: 2,008,778\n",
      "Trainable params: 2,008,778\n",
      "Non-trainable params: 0\n",
      "_________________________________________________________________\n"
     ]
    }
   ],
   "source": [
    "model.add(layers.Conv2D(64, (3, 3), activation= 'relu', input_shape = (28, 28, 1)))\n",
    "model.add(layers.Conv2D(128, (3, 3), activation= 'relu'))\n",
    "model.add(layers.MaxPooling2D())\n",
    "model.add(layers.Conv2D(256, (3, 3), activation= 'relu'))\n",
    "model.add(layers.Flatten())\n",
    "model.add(layers.Dense(64, activation = 'relu'))\n",
    "model.add(layers.Dense(10, activation = 'Softmax'))\n",
    "\n",
    "model.summary()"
   ]
  },
  {
   "cell_type": "code",
   "execution_count": 7,
   "id": "060931eb",
   "metadata": {},
   "outputs": [],
   "source": [
    "model.compile(optimizer='Adam', loss='sparse_categorical_crossentropy', metrics=['Accuracy'])"
   ]
  },
  {
   "cell_type": "code",
   "execution_count": 8,
   "id": "5d58c5bc",
   "metadata": {
    "scrolled": true
   },
   "outputs": [
    {
     "name": "stdout",
     "output_type": "stream",
     "text": [
      "Epoch 1/5\n",
      "1875/1875 [==============================] - 197s 104ms/step - loss: 0.3691 - Accuracy: 0.8666\n",
      "Epoch 2/5\n",
      "1875/1875 [==============================] - 210s 112ms/step - loss: 0.2305 - Accuracy: 0.9158\n",
      "Epoch 3/5\n",
      "1875/1875 [==============================] - 214s 114ms/step - loss: 0.1809 - Accuracy: 0.9338\n",
      "Epoch 4/5\n",
      "1875/1875 [==============================] - 212s 113ms/step - loss: 0.1424 - Accuracy: 0.9463\n",
      "Epoch 5/5\n",
      "1875/1875 [==============================] - 213s 114ms/step - loss: 0.1090 - Accuracy: 0.9600\n"
     ]
    },
    {
     "data": {
      "text/plain": [
       "<keras.callbacks.History at 0x1b8b7dc98b0>"
      ]
     },
     "execution_count": 8,
     "metadata": {},
     "output_type": "execute_result"
    }
   ],
   "source": [
    "model.fit(train_images, train_labels, epochs = 5)"
   ]
  },
  {
   "cell_type": "code",
   "execution_count": 45,
   "id": "6a573364",
   "metadata": {},
   "outputs": [
    {
     "name": "stdout",
     "output_type": "stream",
     "text": [
      "313/313 [==============================] - 7s 23ms/step - loss: 0.2492 - Accuracy: 0.9239\n",
      "\n",
      "The accuracy of the model on the test dataset is: 92.39%\n"
     ]
    }
   ],
   "source": [
    "(loss, accuracy) = model.evaluate(test_images, test_labels)\n",
    "print(\"\\nThe accuracy of the model on the test dataset is: \" + str(round(accuracy * 100, 2)) + \"%\")"
   ]
  },
  {
   "cell_type": "code",
   "execution_count": 46,
   "id": "d148d46b",
   "metadata": {},
   "outputs": [
    {
     "name": "stdout",
     "output_type": "stream",
     "text": [
      "313/313 [==============================] - 8s 26ms/step\n"
     ]
    }
   ],
   "source": [
    "pred_prob = model.predict(test_images)"
   ]
  },
  {
   "cell_type": "code",
   "execution_count": 51,
   "id": "bc8ac6df",
   "metadata": {},
   "outputs": [],
   "source": [
    "predictions = []\n",
    "\n",
    "for i in range(len(pred_prob)):\n",
    "    maximum = max(pred_prob[i])\n",
    "    \n",
    "    for j in range(len(pred_prob[i])):\n",
    "        if pred_prob[i][j] == maximum:\n",
    "            predictions.append(j)\n",
    "            break"
   ]
  },
  {
   "cell_type": "code",
   "execution_count": 52,
   "id": "86c80b4d",
   "metadata": {},
   "outputs": [],
   "source": [
    "#confusion_matrix = confusion_matrix(test_labels, predictions)\n",
    "#print(confusion_matrix)"
   ]
  },
  {
   "cell_type": "code",
   "execution_count": 53,
   "id": "8346a6d1",
   "metadata": {},
   "outputs": [
    {
     "data": {
      "image/png": "[encoded data removed]",
      "text/plain": [
       "<Figure size 720x720 with 1 Axes>"
      ]
     },
     "metadata": {
      "needs_background": "light"
     },
     "output_type": "display_data"
    }
   ],
   "source": [
    "fig, ax = plt.subplots(figsize = (10, 10))\n",
    "ax.matshow(confusion_matrix, cmap = plt.cm.Greens, alpha = 0.5)\n",
    "\n",
    "for i in range(confusion_matrix.shape[0]):\n",
    "    for j in range(confusion_matrix.shape[1]):\n",
    "        ax.text(x = j, y = i, s = confusion_matrix[i, j], va = 'center', ha = 'center', size = 'x-large')\n",
    "        \n",
    "plt.xlabel('Predicted Value', fontsize = 15)\n",
    "plt.ylabel('Actual Value', fontsize = 15)\n",
    "plt.title('Confusion Matrix', fontsize = 20)\n",
    "plt.show()"
   ]
  },
  {
   "cell_type": "code",
   "execution_count": null,
   "id": "c534854f",
   "metadata": {},
   "outputs": [],
   "source": []
  }
 ],
 "metadata": {
  "kernelspec": {
   "display_name": "Python 3 (ipykernel)",
   "language": "python",
   "name": "python3"
  },
  "language_info": {
   "codemirror_mode": {
    "name": "ipython",
    "version": 3
   },
   "file_extension": ".py",
   "mimetype": "text/x-python",
   "name": "python",
   "nbconvert_exporter": "python",
   "pygments_lexer": "ipython3",
   "version": "3.9.7"
  }
 },
 "nbformat": 4,
 "nbformat_minor": 5
}
