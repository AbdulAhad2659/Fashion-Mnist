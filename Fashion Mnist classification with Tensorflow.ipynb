{
 "cells": [
  {
   "cell_type": "code",
   "execution_count": 1,
   "id": "0561d88f",
   "metadata": {},
   "outputs": [],
   "source": [
    "#Importing the required modules\n",
    "\n",
    "import numpy as np\n",
    "import matplotlib.pyplot as plt\n",
    "import tensorflow as tf\n",
    "from tensorflow import keras\n",
    "from keras import datasets, layers, metrics, models, optimizers\n",
    "from sklearn.metrics import classification_report, confusion_matrix"
   ]
  },
  {
   "cell_type": "code",
   "execution_count": 2,
   "id": "19cfa5ff",
   "metadata": {},
   "outputs": [],
   "source": [
    "#Loading the Fashion_Mnist dataset\n",
    "\n",
    "(train_images, train_labels), (test_images, test_labels) = datasets.fashion_mnist.load_data()"
   ]
  },
  {
   "cell_type": "code",
   "execution_count": 3,
   "id": "ae42878f",
   "metadata": {},
   "outputs": [],
   "source": [
    "#Normalize the data values between 0 and 1\n",
    "\n",
    "train_images = train_images / 255.0\n",
    "test_images = test_images / 255.0"
   ]
  },
  {
   "cell_type": "code",
   "execution_count": 4,
   "id": "08b738e2",
   "metadata": {},
   "outputs": [],
   "source": [
    "#Naming the classes in which the dataset is to be classified\n",
    "\n",
    "classes = ['T-shirt/top', 'Trouser', 'Pullover', 'Dress', 'Coat', 'Sandal', 'Shirt', 'Sneaker', 'Bag', 'Ankle boot']"
   ]
  },
  {
   "cell_type": "code",
   "execution_count": 5,
   "id": "96108b7e",
   "metadata": {},
   "outputs": [],
   "source": [
    "#Selecting a sequential model\n",
    "\n",
    "model = models.Sequential()"
   ]
  },
  {
   "cell_type": "code",
   "execution_count": 6,
   "id": "1fe55bac",
   "metadata": {},
   "outputs": [
    {
     "name": "stdout",
     "output_type": "stream",
     "text": [
      "Model: \"sequential\"\n",
      "_________________________________________________________________\n",
      " Layer (type)                Output Shape              Param #   \n",
      "=================================================================\n",
      " conv2d (Conv2D)             (None, 26, 26, 64)        640       \n",
      "                                                                 \n",
      " conv2d_1 (Conv2D)           (None, 24, 24, 128)       73856     \n",
      "                                                                 \n",
      " max_pooling2d (MaxPooling2D  (None, 12, 12, 128)      0         \n",
      " )                                                               \n",
      "                                                                 \n",
      " conv2d_2 (Conv2D)           (None, 10, 10, 256)       295168    \n",
      "                                                                 \n",
      " flatten (Flatten)           (None, 25600)             0         \n",
      "                                                                 \n",
      " dense (Dense)               (None, 64)                1638464   \n",
      "                                                                 \n",
      " dense_1 (Dense)             (None, 10)                650       \n",
      "                                                                 \n",
      "=================================================================\n",
      "Total params: 2,008,778\n",
      "Trainable params: 2,008,778\n",
      "Non-trainable params: 0\n",
      "_________________________________________________________________\n"
     ]
    }
   ],
   "source": [
    "#Defining the structure of our Convolutional Neural Network\n",
    "\n",
    "model.add(layers.Conv2D(64, (3, 3), activation= 'relu', input_shape = (28, 28, 1)))\n",
    "model.add(layers.Conv2D(128, (3, 3), activation= 'relu'))\n",
    "model.add(layers.MaxPooling2D())\n",
    "model.add(layers.Conv2D(256, (3, 3), activation= 'relu'))\n",
    "model.add(layers.Flatten())\n",
    "model.add(layers.Dense(64, activation = 'relu'))\n",
    "model.add(layers.Dense(10, activation = 'Softmax'))\n",
    "\n",
    "model.summary()"
   ]
  },
  {
   "cell_type": "code",
   "execution_count": 7,
   "id": "060931eb",
   "metadata": {},
   "outputs": [],
   "source": [
    "#Compiling the model with the selected optimizer and loss function\n",
    "\n",
    "model.compile(optimizer='Adam', loss='sparse_categorical_crossentropy', metrics=['Accuracy'])"
   ]
  },
  {
   "cell_type": "code",
   "execution_count": 8,
   "id": "5d58c5bc",
   "metadata": {
    "scrolled": true
   },
   "outputs": [
    {
     "name": "stdout",
     "output_type": "stream",
     "text": [
      "Epoch 1/5\n",
      "1875/1875 [==============================] - 220s 117ms/step - loss: 0.3809 - Accuracy: 0.8628\n",
      "Epoch 2/5\n",
      "1875/1875 [==============================] - 245s 131ms/step - loss: 0.2361 - Accuracy: 0.9148\n",
      "Epoch 3/5\n",
      "1875/1875 [==============================] - 247s 132ms/step - loss: 0.1853 - Accuracy: 0.9327\n",
      "Epoch 4/5\n",
      "1875/1875 [==============================] - 254s 136ms/step - loss: 0.1470 - Accuracy: 0.9453\n",
      "Epoch 5/5\n",
      "1875/1875 [==============================] - 232s 124ms/step - loss: 0.1140 - Accuracy: 0.9578\n"
     ]
    },
    {
     "data": {
      "text/plain": [
       "<keras.callbacks.History at 0x1c97b3d78e0>"
      ]
     },
     "execution_count": 8,
     "metadata": {},
     "output_type": "execute_result"
    }
   ],
   "source": [
    "#Training the dataset\n",
    "\n",
    "model.fit(train_images, train_labels, epochs = 5)"
   ]
  },
  {
   "cell_type": "code",
   "execution_count": 9,
   "id": "6a573364",
   "metadata": {},
   "outputs": [
    {
     "name": "stdout",
     "output_type": "stream",
     "text": [
      "313/313 [==============================] - 9s 28ms/step - loss: 0.2521 - Accuracy: 0.9181\n",
      "\n",
      "The accuracy of the model on the test dataset is: 91.81%\n"
     ]
    }
   ],
   "source": [
    "#Testing the accuracy of our model on the test dataset\n",
    "\n",
    "(loss, accuracy) = model.evaluate(test_images, test_labels)\n",
    "print(\"\\nThe accuracy of the model on the test dataset is: \" + str(round(accuracy * 100, 2)) + \"%\")"
   ]
  },
  {
   "cell_type": "code",
   "execution_count": 10,
   "id": "95dc2c72",
   "metadata": {},
   "outputs": [
    {
     "name": "stdout",
     "output_type": "stream",
     "text": [
      "313/313 [==============================] - 9s 28ms/step\n"
     ]
    }
   ],
   "source": [
    "#Calculating probability of an image belonging to one of the 10 classes\n",
    "\n",
    "pred_prob = model.predict(test_images)"
   ]
  },
  {
   "cell_type": "code",
   "execution_count": 11,
   "id": "c5f8feb9",
   "metadata": {},
   "outputs": [],
   "source": [
    "#Storing the maximum probability predictions of all classes for all dataset elements\n",
    "\n",
    "predictions = []\n",
    "\n",
    "for i in range(len(pred_prob)):\n",
    "    maximum = max(pred_prob[i])\n",
    "    \n",
    "    for j in range(len(pred_prob[i])):\n",
    "        if pred_prob[i][j] == maximum:\n",
    "            predictions.append(j)\n",
    "            break"
   ]
  },
  {
   "cell_type": "code",
   "execution_count": 12,
   "id": "30ddabe1",
   "metadata": {},
   "outputs": [
    {
     "name": "stdout",
     "output_type": "stream",
     "text": [
      "[[832   2  20  20   3   2 115   0   6   0]\n",
      " [  1 988   0   5   1   0   4   0   1   0]\n",
      " [  9   1 868   8  58   0  55   0   1   0]\n",
      " [ 11   3   9 927  29   1  19   0   1   0]\n",
      " [  0   0  29  17 927   0  26   0   1   0]\n",
      " [  0   0   0   0   0 989   0   9   0   2]\n",
      " [ 65   1  54  22 123   0 728   0   7   0]\n",
      " [  0   0   0   0   0   4   0 988   0   8]\n",
      " [  3   1   0   1   3   4   7   1 980   0]\n",
      " [  0   0   0   0   0   5   0  41   0 954]]\n"
     ]
    }
   ],
   "source": [
    "#Calculating the confusion matrix for our predicted values\n",
    "\n",
    "confusion_matrix = confusion_matrix(test_labels, predictions)\n",
    "print(confusion_matrix)"
   ]
  },
  {
   "cell_type": "code",
   "execution_count": 13,
   "id": "24387148",
   "metadata": {},
   "outputs": [
    {
     "data": {
      "image/png": "[encoded data removed]",
      "text/plain": [
       "<Figure size 936x936 with 1 Axes>"
      ]
     },
     "metadata": {
      "needs_background": "light"
     },
     "output_type": "display_data"
    }
   ],
   "source": [
    "#Generating a plot to visualise the confusion matrix of the test dataset\n",
    "\n",
    "fig, ax = plt.subplots(figsize = (13, 13))\n",
    "ax.matshow(confusion_matrix, cmap = plt.cm.Greens, alpha = 0.5)\n",
    "\n",
    "for i in range(confusion_matrix.shape[0]):\n",
    "    for j in range(confusion_matrix.shape[1]):\n",
    "        ax.text(x = j, y = i, s = confusion_matrix[i, j], va = 'center', ha = 'center', size = 'x-large')\n",
    "        \n",
    "plt.xlabel('Predicted Value', fontsize = 18)\n",
    "plt.ylabel('Actual Value', fontsize = 18)\n",
    "plt.xticks(ticks = range(10), labels = classes, fontsize = 13)\n",
    "plt.yticks(ticks = range(10), labels = classes, fontsize = 13)\n",
    "plt.title('Confusion Matrix', fontsize = 20)\n",
    "plt.show()"
   ]
  },
  {
   "cell_type": "code",
   "execution_count": 14,
   "id": "9e7796a7",
   "metadata": {},
   "outputs": [
    {
     "name": "stdout",
     "output_type": "stream",
     "text": [
      "              precision    recall  f1-score   support\n",
      "\n",
      " T-shirt/top       0.90      0.83      0.87      1000\n",
      "     Trouser       0.99      0.99      0.99      1000\n",
      "    Pullover       0.89      0.87      0.88      1000\n",
      "       Dress       0.93      0.93      0.93      1000\n",
      "        Coat       0.81      0.93      0.86      1000\n",
      "      Sandal       0.98      0.99      0.99      1000\n",
      "       Shirt       0.76      0.73      0.75      1000\n",
      "     Sneaker       0.95      0.99      0.97      1000\n",
      "         Bag       0.98      0.98      0.98      1000\n",
      "  Ankle boot       0.99      0.95      0.97      1000\n",
      "\n",
      "    accuracy                           0.92     10000\n",
      "   macro avg       0.92      0.92      0.92     10000\n",
      "weighted avg       0.92      0.92      0.92     10000\n",
      "\n"
     ]
    }
   ],
   "source": [
    "#Printing the classification report of our test dataset\n",
    "\n",
    "print(classification_report(test_labels, predictions, target_names = classes))"
   ]
  }
 ],
 "metadata": {
  "kernelspec": {
   "display_name": "Python 3 (ipykernel)",
   "language": "python",
   "name": "python3"
  },
  "language_info": {
   "codemirror_mode": {
    "name": "ipython",
    "version": 3
   },
   "file_extension": ".py",
   "mimetype": "text/x-python",
   "name": "python",
   "nbconvert_exporter": "python",
   "pygments_lexer": "ipython3",
   "version": "3.9.7"
  }
 },
 "nbformat": 4,
 "nbformat_minor": 5
}
